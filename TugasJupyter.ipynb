{
 "cells": [
  {
   "cell_type": "code",
   "execution_count": 9,
   "id": "55e194b6-b296-4cca-9d95-5581d8b7f6d1",
   "metadata": {},
   "outputs": [
    {
     "name": "stdout",
     "output_type": "stream",
     "text": [
      "✅ Kolom berhasil dipisahkan dengan benar!\n",
      "Daftar kolom: ['symboling', 'normalized-losses', 'make', 'fuel-type', 'aspiration', 'num-of-doors', 'body-style', 'drive-wheels', 'engine-location', 'wheel-base', 'length', 'width', 'height', 'curb-weight', 'engine-type', 'num-of-cylinders', 'engine-size', 'fuel-system', 'bore', 'stroke', 'compression-ratio', 'horsepower', 'peak-rpm', 'city-mpg', 'highway-mpg', 'price']\n",
      "\n",
      "Contoh data:\n",
      "  symboling normalized-losses         make fuel-type aspiration num-of-doors  \\\n",
      "0         3                 ?  alfa-romero       gas        std          two   \n",
      "1         3                 ?  alfa-romero       gas        std          two   \n",
      "2         1                 ?  alfa-romero       gas        std          two   \n",
      "3         2               164         audi       gas        std         four   \n",
      "4         2               164         audi       gas        std         four   \n",
      "\n",
      "    body-style drive-wheels engine-location wheel-base  ... engine-size  \\\n",
      "0  convertible          rwd           front       88.6  ...         130   \n",
      "1  convertible          rwd           front       88.6  ...         130   \n",
      "2    hatchback          rwd           front       94.5  ...         152   \n",
      "3        sedan          fwd           front       99.8  ...         109   \n",
      "4        sedan          4wd           front       99.4  ...         136   \n",
      "\n",
      "  fuel-system  bore stroke compression-ratio horsepower peak-rpm city-mpg  \\\n",
      "0        mpfi  3.47   2.68                 9        111     5000       21   \n",
      "1        mpfi  3.47   2.68                 9        111     5000       21   \n",
      "2        mpfi  2.68   3.47                 9        154     5000       19   \n",
      "3        mpfi  3.19    3.4                10        102     5500       24   \n",
      "4        mpfi  3.19    3.4                 8        115     5500       18   \n",
      "\n",
      "  highway-mpg  price  \n",
      "0          27  13495  \n",
      "1          27  16500  \n",
      "2          26  16500  \n",
      "3          30  13950  \n",
      "4          22  17450  \n",
      "\n",
      "[5 rows x 26 columns]\n"
     ]
    }
   ],
   "source": [
    "# === Import Library ===\n",
    "import pandas as pd\n",
    "\n",
    "# === Membaca File Dataset ===\n",
    "# Jika file Excel tidak terbaca sebagai tabel, coba baca sebagai CSV\n",
    "try:\n",
    "    df = pd.read_excel(\"Automobile_data.xlsx\")\n",
    "except:\n",
    "    df = pd.read_csv(\"Automobile_data.xlsx\")\n",
    "\n",
    "# === Memeriksa apakah kolom masih menjadi satu string panjang ===\n",
    "if len(df.columns) == 1:\n",
    "    # Pisahkan kolom berdasarkan koma (\",\")\n",
    "    df = df[df.columns[0]].str.split(\",\", expand=True)\n",
    "    \n",
    "    # Beri nama kolom sesuai dengan dataset Automobile\n",
    "    df.columns = [\n",
    "        'symboling','normalized-losses','make','fuel-type','aspiration','num-of-doors',\n",
    "        'body-style','drive-wheels','engine-location','wheel-base','length','width','height',\n",
    "        'curb-weight','engine-type','num-of-cylinders','engine-size','fuel-system','bore',\n",
    "        'stroke','compression-ratio','horsepower','peak-rpm','city-mpg','highway-mpg','price'\n",
    "    ]\n",
    "\n",
    "print(\"✅ Kolom berhasil dipisahkan dengan benar!\")\n",
    "print(\"Daftar kolom:\", df.columns.tolist())\n",
    "\n",
    "# Tampilkan 5 baris pertama untuk memastikan hasilnya benar\n",
    "print(\"\\nContoh data:\")\n",
    "print(df.head())\n"
   ]
  },
  {
   "cell_type": "code",
   "execution_count": 14,
   "id": "27f29465-0a25-493c-8298-67f7e5e2b6ab",
   "metadata": {},
   "outputs": [
    {
     "name": "stdout",
     "output_type": "stream",
     "text": [
      "✅ Data sudah dibersihkan. Bentuk data sekarang: (96, 26)\n",
      "   horsepower  curb-weight    price\n",
      "0         111         2548  13495.0\n",
      "1         111         2548  16500.0\n",
      "2         154         2823  16500.0\n",
      "3         102         2337  13950.0\n",
      "4         115         2824  17450.0\n"
     ]
    }
   ],
   "source": [
    "# === Membersihkan Data ===\n",
    "\n",
    "# Hilangkan spasi di nama kolom\n",
    "df.columns = df.columns.str.strip()\n",
    "\n",
    "# Konversi kolom numerik yang penting ke angka\n",
    "cols_needed = ['horsepower', 'curb-weight', 'price']\n",
    "\n",
    "for col in cols_needed:\n",
    "    df[col] = pd.to_numeric(df[col], errors='coerce')\n",
    "\n",
    "# Hapus baris yang memiliki nilai kosong di kolom penting\n",
    "df = df.dropna(subset=cols_needed).reset_index(drop=True)\n",
    "\n",
    "print(\"✅ Data sudah dibersihkan. Bentuk data sekarang:\", df.shape)\n",
    "print(df[cols_needed].head())\n"
   ]
  },
  {
   "cell_type": "code",
   "execution_count": 15,
   "id": "7be14d5c-7428-41f6-93c1-f1484f8f8afc",
   "metadata": {},
   "outputs": [],
   "source": [
    "# === Membuat Fungsi Fuzzy Efficiency ===\n",
    "\n",
    "def fuzzy_efficiency(horsepower, curb_weight):\n",
    "    \"\"\"\n",
    "    Menghitung efisiensi fuzzy berdasarkan horsepower dan berat kendaraan.\n",
    "    Nilai efisiensi di-normalisasi antara 0–100.\n",
    "    \"\"\"\n",
    "    try:\n",
    "        # Contoh logika sederhana:\n",
    "        # Efisiensi turun jika horsepower tinggi dan berat besar\n",
    "        eff = (1 / (0.5 * horsepower + 0.0005 * curb_weight)) * 10000\n",
    "        eff = max(0, min(eff, 100))  # batasi nilai antara 0-100\n",
    "        label = (\n",
    "            \"Tinggi\" if eff > 70 else\n",
    "            \"Sedang\" if eff > 40 else\n",
    "            \"Rendah\"\n",
    "        )\n",
    "        return eff, label\n",
    "    except:\n",
    "        return np.nan, \"Tidak Diketahui\"\n"
   ]
  },
  {
   "cell_type": "code",
   "execution_count": 10,
   "id": "04e5d5e8-11f8-4dd4-8c1b-c76c5814ecc1",
   "metadata": {},
   "outputs": [],
   "source": [
    "# Membership function untuk horsepower\n",
    "def mu_hp_low(x): return trapezoid(x, 40, 40, 70, 90)\n",
    "def mu_hp_med(x): return triangle(x, 80, 100, 150)\n",
    "def mu_hp_high(x): return trapezoid(x, 130, 160, 200, 250)\n",
    "\n",
    "# Membership function untuk berat mobil\n",
    "def mu_wt_light(x): return trapezoid(x, 1500, 1500, 2200, 2600)\n",
    "def mu_wt_med(x): return triangle(x, 2400, 3000, 3600)\n",
    "def mu_wt_heavy(x): return trapezoid(x, 3400, 4000, 5000, 5500)\n",
    "\n",
    "# Membership function untuk output efisiensi\n",
    "def mu_eff_low(y): return triangle(y, 0, 0, 50)\n",
    "def mu_eff_med(y): return triangle(y, 30, 50, 70)\n",
    "def mu_eff_high(y): return triangle(y, 60, 100, 100)\n"
   ]
  },
  {
   "cell_type": "code",
   "execution_count": 16,
   "id": "4dcfed27-c906-4866-a97b-842fc184a482",
   "metadata": {},
   "outputs": [
    {
     "name": "stdout",
     "output_type": "stream",
     "text": [
      "✅ Fuzzy logic berhasil diterapkan!\n",
      "   horsepower  curb-weight  fuzzy_efficiency eff_label\n",
      "0         111         2548             100.0    Tinggi\n",
      "1         111         2548             100.0    Tinggi\n",
      "2         154         2823             100.0    Tinggi\n",
      "3         102         2337             100.0    Tinggi\n",
      "4         115         2824             100.0    Tinggi\n"
     ]
    }
   ],
   "source": [
    "# === Terapkan Fuzzy Logic ke seluruh dataset ===\n",
    "\n",
    "df[\"fuzzy_efficiency\"], df[\"eff_label\"] = zip(\n",
    "    *df.apply(lambda x: fuzzy_efficiency(x[\"horsepower\"], x[\"curb-weight\"]), axis=1)\n",
    ")\n",
    "\n",
    "print(\"✅ Fuzzy logic berhasil diterapkan!\")\n",
    "print(df[[\"horsepower\", \"curb-weight\", \"fuzzy_efficiency\", \"eff_label\"]].head())\n"
   ]
  },
  {
   "cell_type": "code",
   "execution_count": 17,
   "id": "c35013b3-56f4-4876-b526-e83bb8b7259b",
   "metadata": {},
   "outputs": [
    {
     "data": {
      "image/png": "[encoded data removed]",
      "text/plain": [
       "<Figure size 800x500 with 1 Axes>"
      ]
     },
     "metadata": {},
     "output_type": "display_data"
    }
   ],
   "source": [
    "# === Visualisasi Distribusi Fuzzy Efficiency ===\n",
    "\n",
    "plt.figure(figsize=(8,5))\n",
    "plt.hist(df[\"fuzzy_efficiency\"], bins=15, color=\"skyblue\", edgecolor=\"black\")\n",
    "plt.title(\"Distribusi Nilai Fuzzy Efficiency\")\n",
    "plt.xlabel(\"Nilai Efisiensi (0-100)\")\n",
    "plt.ylabel(\"Frekuensi\")\n",
    "plt.grid(alpha=0.3)\n",
    "plt.show()\n"
   ]
  },
  {
   "cell_type": "code",
   "execution_count": 18,
   "id": "62d1947f-2cf0-496c-b743-e085d86c846a",
   "metadata": {},
   "outputs": [
    {
     "name": "stdout",
     "output_type": "stream",
     "text": [
      "Rata-rata Efisiensi: 99.74\n",
      "Nilai Maksimum: 100.0\n",
      "Nilai Minimum: 75.2\n",
      "\n",
      "Distribusi Label Efisiensi:\n",
      "eff_label\n",
      "Tinggi    96\n",
      "Name: count, dtype: int64\n"
     ]
    }
   ],
   "source": [
    "# === Statistik Ringkasan ===\n",
    "print(\"Rata-rata Efisiensi:\", round(df[\"fuzzy_efficiency\"].mean(), 2))\n",
    "print(\"Nilai Maksimum:\", round(df[\"fuzzy_efficiency\"].max(), 2))\n",
    "print(\"Nilai Minimum:\", round(df[\"fuzzy_efficiency\"].min(), 2))\n",
    "\n",
    "print(\"\\nDistribusi Label Efisiensi:\")\n",
    "print(df[\"eff_label\"].value_counts())\n"
   ]
  },
  {
   "cell_type": "code",
   "execution_count": null,
   "id": "2aa953f4-3431-46fc-8ab0-e740325915c1",
   "metadata": {},
   "outputs": [],
   "source": []
  }
 ],
 "metadata": {
  "kernelspec": {
   "display_name": "Python [conda env:base] *",
   "language": "python",
   "name": "conda-base-py"
  },
  "language_info": {
   "codemirror_mode": {
    "name": "ipython",
    "version": 3
   },
   "file_extension": ".py",
   "mimetype": "text/x-python",
   "name": "python",
   "nbconvert_exporter": "python",
   "pygments_lexer": "ipython3",
   "version": "3.13.5"
  }
 },
 "nbformat": 4,
 "nbformat_minor": 5
}
